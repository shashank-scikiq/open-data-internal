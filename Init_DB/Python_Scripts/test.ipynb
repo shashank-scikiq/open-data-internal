{
 "cells": [
  {
   "cell_type": "code",
   "execution_count": null,
   "metadata": {},
   "outputs": [],
   "source": [
    "from dotenv import load_dotenv\n",
    "import os\n",
    "import sys\n",
    "from glob import glob\n",
    "import pandas as pd"
   ]
  },
  {
   "cell_type": "code",
   "execution_count": null,
   "metadata": {},
   "outputs": [],
   "source": [
    "import env_defs as ed\n",
    "import utils"
   ]
  },
  {
   "cell_type": "code",
   "execution_count": null,
   "metadata": {},
   "outputs": [],
   "source": [
    "b2b_files = glob(f'{ed.dump_loc}/*shared_open_data_b2b_order*')\n",
    "logistic_files = glob(f'{ed.dump_loc}/*shared_open_data_logistics_order*')\n",
    "retail_files = glob(f'{ed.dump_loc}/*nhm_order_fulfillment_subset_v1*')\n",
    "voucher_files = glob(f'{ed.dump_loc}/*shared_open_data_gift_voucher_order*')"
   ]
  },
  {
   "cell_type": "code",
   "execution_count": null,
   "metadata": {},
   "outputs": [],
   "source": [
    "pc_tbl = pd.read_parquet(ed.script_loc+\"pc.parquet\")"
   ]
  },
  {
   "cell_type": "code",
   "execution_count": null,
   "metadata": {},
   "outputs": [],
   "source": [
    "# import ETL_Loader"
   ]
  },
  {
   "cell_type": "code",
   "execution_count": null,
   "metadata": {},
   "outputs": [],
   "source": [
    "# await ETL_Loader.insert_into_pincode(ETL_Loader.pg_url)"
   ]
  },
  {
   "cell_type": "markdown",
   "metadata": {},
   "source": [
    "### Catalogue the Files"
   ]
  },
  {
   "cell_type": "code",
   "execution_count": null,
   "metadata": {},
   "outputs": [],
   "source": [
    "logistics_files = glob(f'{ed.raw_files}/*shared_open_data_logistics_order*')\n",
    "b2b_files = glob(f'{ed.raw_files}/*shared_open_data_b2b_order*')\n",
    "b2c_files = glob(f'{ed.raw_files}/*nhm_order_fulfillment_subset_v1*')    \n",
    "voucher_files = glob(f'{ed.raw_files}/*shared_open_data_gift_voucher_order*')"
   ]
  },
  {
   "cell_type": "markdown",
   "metadata": {},
   "source": [
    "B2C"
   ]
  },
  {
   "cell_type": "code",
   "execution_count": null,
   "metadata": {},
   "outputs": [],
   "source": [
    "tgt_df = pd.read_parquet(voucher_files[0])"
   ]
  },
  {
   "cell_type": "code",
   "execution_count": null,
   "metadata": {},
   "outputs": [],
   "source": [
    "print(\"Truncating the Pincode columns\")\n",
    "tgt_df[\"delivery_pincode\"] = tgt_df[\"delivery_pincode\"].str.strip()"
   ]
  },
  {
   "cell_type": "code",
   "execution_count": null,
   "metadata": {},
   "outputs": [],
   "source": [
    "print(\"Populating Delivery Stats.\")\n",
    "final_df = tgt_df.merge(pc_tbl, left_on=\"delivery_pincode\", \n",
    "                                right_on=\"Pincode\", how=\"left\").drop(columns=[\n",
    "                                    \"Pincode\",\"delivery_district\",\"delivery_state\",\"delivery_state_code\"]).rename(\n",
    "                                        columns={\"Statename\":\"delivery_state\",\n",
    "                                                    \"Districtname\":\"delivery_district\", \n",
    "                                                    \"Statecode\":\"delivery_state_code\"})"
   ]
  },
  {
   "cell_type": "code",
   "execution_count": null,
   "metadata": {},
   "outputs": [],
   "source": [
    "final_df.head(5)"
   ]
  },
  {
   "cell_type": "code",
   "execution_count": null,
   "metadata": {},
   "outputs": [],
   "source": [
    "chk_df = pd.read_parquet(\"/home/sraj/Documents/GitHub/OD_DB_Files/Processed_Files/_2023-11-01_retail_b2c.parquet\")"
   ]
  },
  {
   "cell_type": "code",
   "execution_count": null,
   "metadata": {},
   "outputs": [],
   "source": [
    "chk_df.head(5)"
   ]
  },
  {
   "cell_type": "code",
   "execution_count": null,
   "metadata": {},
   "outputs": [],
   "source": [
    "tgt_params = {\n",
    "    'host': f\"{os.getenv('POSTGRES_HOST')}\",\n",
    "    'port': int(f\"{os.getenv('POSTGRES_PORT')}\"),\n",
    "    'database': f\"{os.getenv('POSTGRES_DB')}\",\n",
    "    'user': f\"{os.getenv('POSTGRES_USER')}\",\n",
    "    'password': f\"{os.getenv('POSTGRES_PASSWORD')}\",\n",
    "    'timeout': 60\n",
    "}"
   ]
  },
  {
   "cell_type": "code",
   "execution_count": null,
   "metadata": {},
   "outputs": [],
   "source": [
    "tgt_schema = os.getenv(\"POSTGRES_SCHEMA\")"
   ]
  },
  {
   "cell_type": "code",
   "execution_count": null,
   "metadata": {},
   "outputs": [],
   "source": [
    "tgt_schema"
   ]
  },
  {
   "cell_type": "code",
   "execution_count": null,
   "metadata": {},
   "outputs": [],
   "source": []
  },
  {
   "cell_type": "code",
   "execution_count": null,
   "metadata": {},
   "outputs": [],
   "source": [
    "from psycopg import connect\n",
    "import json\n",
    "from datetime import datetime"
   ]
  },
  {
   "cell_type": "code",
   "execution_count": null,
   "metadata": {},
   "outputs": [],
   "source": [
    "conn = connect(\n",
    "    pg_url\n",
    ")"
   ]
  },
  {
   "cell_type": "code",
   "execution_count": null,
   "metadata": {},
   "outputs": [],
   "source": [
    "conn"
   ]
  },
  {
   "cell_type": "code",
   "execution_count": null,
   "metadata": {},
   "outputs": [],
   "source": [
    "with conn.cursor() as cur:\n",
    "    result = cur.execute(\"SELECT * from rohit_monthly_data\")\n",
    "    data = result.fetchall()"
   ]
  },
  {
   "cell_type": "code",
   "execution_count": null,
   "metadata": {},
   "outputs": [],
   "source": [
    "data_list = []\n",
    "\n",
    "for domain, date, transactions in data:\n",
    "    data_list.append([transactions, domain, \n",
    "                        date.strftime(format=\"%Y-%m-%d\"),transactions])"
   ]
  },
  {
   "cell_type": "code",
   "execution_count": null,
   "metadata": {},
   "outputs": [],
   "source": [
    "data_list"
   ]
  },
  {
   "cell_type": "code",
   "execution_count": null,
   "metadata": {},
   "outputs": [],
   "source": [
    "for x in data_list:\n",
    "    print(f'[{x[0]}, \\n\"{x[1]}\",\\n\"{x[2]}\", \\n{x[3]}],')"
   ]
  },
  {
   "cell_type": "code",
   "execution_count": null,
   "metadata": {},
   "outputs": [],
   "source": [
    "for x in data_list:\n",
    "    print(x[3])"
   ]
  },
  {
   "cell_type": "code",
   "execution_count": null,
   "metadata": {},
   "outputs": [],
   "source": [
    "import utils"
   ]
  },
  {
   "cell_type": "code",
   "execution_count": null,
   "metadata": {},
   "outputs": [],
   "source": [
    "utils.return_env_dict(\"/home/sraj/Documents/GitHub/OD_Webapp/aws_common.env\")"
   ]
  },
  {
   "cell_type": "markdown",
   "metadata": {},
   "source": [
    "Fixing Utils' File. "
   ]
  },
  {
   "cell_type": "code",
   "execution_count": null,
   "metadata": {},
   "outputs": [],
   "source": [
    "import utils\n",
    "from dotenv import load_dotenv\n",
    "import os\n",
    "import RUN_Business_Logic_async as rbl\n",
    "import asyncpg"
   ]
  },
  {
   "cell_type": "code",
   "execution_count": null,
   "metadata": {},
   "outputs": [],
   "source": [
    "load_dotenv(\"../../aws_common.env\")"
   ]
  },
  {
   "cell_type": "code",
   "execution_count": null,
   "metadata": {},
   "outputs": [],
   "source": [
    "os.getenv(\"POSTGRES_DB\")"
   ]
  },
  {
   "cell_type": "code",
   "execution_count": null,
   "metadata": {},
   "outputs": [],
   "source": [
    "await rbl.business_logic()"
   ]
  },
  {
   "cell_type": "code",
   "execution_count": null,
   "metadata": {},
   "outputs": [],
   "source": [
    "sql_file = \"/home/sraj/Documents/GitHub/OD_Webapp/Init_DB/Final_DB_Scripts/ATH_TBL_LOG.sql\""
   ]
  },
  {
   "cell_type": "code",
   "execution_count": null,
   "metadata": {},
   "outputs": [],
   "source": [
    "req_env = \"required_envs.txt\""
   ]
  },
  {
   "cell_type": "code",
   "execution_count": null,
   "metadata": {},
   "outputs": [],
   "source": [
    "utils.read_clean_script(f_name=sql_file,\n",
    "                        env_file=req_env)"
   ]
  },
  {
   "cell_type": "code",
   "execution_count": 1,
   "metadata": {},
   "outputs": [],
   "source": [
    "import pandas as pd"
   ]
  },
  {
   "cell_type": "code",
   "execution_count": 2,
   "metadata": {},
   "outputs": [],
   "source": [
    "pc_tbl = \"../Final_DB_Scripts/pc.parquet\""
   ]
  },
  {
   "cell_type": "code",
   "execution_count": 3,
   "metadata": {},
   "outputs": [],
   "source": [
    "df = pd.read_parquet(pc_tbl)"
   ]
  },
  {
   "cell_type": "code",
   "execution_count": 5,
   "metadata": {},
   "outputs": [],
   "source": [
    "df.to_csv(\"pincode.csv\",index=False)"
   ]
  }
 ],
 "metadata": {
  "kernelspec": {
   "display_name": ".venv",
   "language": "python",
   "name": "python3"
  },
  "language_info": {
   "codemirror_mode": {
    "name": "ipython",
    "version": 3
   },
   "file_extension": ".py",
   "mimetype": "text/x-python",
   "name": "python",
   "nbconvert_exporter": "python",
   "pygments_lexer": "ipython3",
   "version": "3.10.12"
  }
 },
 "nbformat": 4,
 "nbformat_minor": 2
}
